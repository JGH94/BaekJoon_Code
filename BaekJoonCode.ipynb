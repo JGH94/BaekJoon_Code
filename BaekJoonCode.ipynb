{
  "cells": [
    {
      "cell_type": "markdown",
      "metadata": {
        "id": "view-in-github",
        "colab_type": "text"
      },
      "source": [
        "<a href=\"https://colab.research.google.com/github/JGH94/BaekJoon_Code/blob/main/BaekJoonCode.ipynb\" target=\"_parent\"><img src=\"https://colab.research.google.com/assets/colab-badge.svg\" alt=\"Open In Colab\"/></a>"
      ]
    },
    {
      "cell_type": "code",
      "execution_count": null,
      "metadata": {
        "colab": {
          "base_uri": "https://localhost:8080/"
        },
        "id": "GitDNhRMrpZQ",
        "outputId": "fb2aba5a-8345-435e-f0ec-4ce489177e15"
      },
      "outputs": [
        {
          "name": "stdout",
          "output_type": "stream",
          "text": [
            "1000 70 170\n",
            "11\n"
          ]
        }
      ],
      "source": [
        "#백준 손익분기점\n",
        "A, B , C = map(int, input().split())\n",
        " \n",
        "if C <= B:\n",
        "  print(-1) \n",
        "else:\n",
        "  print(int(A//(C-B)+1)) "
      ]
    },
    {
      "cell_type": "code",
      "execution_count": null,
      "metadata": {
        "id": "nCoBoSk5eDiF"
      },
      "outputs": [],
      "source": [
        "#백준 2282번 벌집\n",
        "#문제 URL : https://www.acmicpc.net/problem/2292\n",
        "\n",
        "A = int(input())\n",
        "#Move\n",
        "move_ = 1\n",
        "#벌집\n",
        "house_ = 1\n",
        "while house_ < A:\n",
        "  house_ += 6 * move_\n",
        "  move_ += 1\n",
        "print(move_)"
      ]
    },
    {
      "cell_type": "code",
      "execution_count": null,
      "metadata": {
        "colab": {
          "base_uri": "https://localhost:8080/"
        },
        "id": "0X_uc-dqfDSW",
        "outputId": "48eb86c6-55af-4d87-8c86-1b81c5e45402"
      },
      "outputs": [
        {
          "name": "stdout",
          "output_type": "stream",
          "text": [
            "1\n",
            "30 50 72\n",
            "1203\n"
          ]
        }
      ],
      "source": [
        "#백준 10250번 ACM 호텔\n",
        "#문제 URL : https://www.acmicpc.net/problem/10250\n",
        "\n",
        "num_ = int(input())\n",
        "\n",
        "for i in range(num_):\n",
        "  a,b,c = map(int,input().split())\n",
        "  F = c%a\n",
        "  H = int(c//a+1)  \n",
        "  if F == 0:   \n",
        "        H = c//a\n",
        "        F = a\n",
        "  print(f'{F*100+H}')\n",
        " \n"
      ]
    },
    {
      "cell_type": "code",
      "execution_count": null,
      "metadata": {
        "colab": {
          "base_uri": "https://localhost:8080/"
        },
        "id": "Ra4whCHueLbG",
        "outputId": "509bbb99-33b2-49e6-c300-b3525f99bcc0"
      },
      "outputs": [
        {
          "name": "stdout",
          "output_type": "stream",
          "text": [
            "2\n",
            "1\n",
            "3\n",
            "[1, 2, 3]\n",
            "6\n",
            "[1, 3, 6]\n",
            "10\n",
            "6\n",
            "2\n",
            "3\n",
            "[1, 2, 3]\n",
            "6\n",
            "[1, 4, 10]\n",
            "15\n",
            "10\n"
          ]
        }
      ],
      "source": [
        "#백준 2775번 부녀회장이 될테야\n",
        "#문제 URL : https://www.acmicpc.net/problem/2775\n",
        "\n",
        "Num_ = int(input()) \n",
        "for _ in range(Num_): \n",
        "    k = int(input()) \n",
        "    n = int(input())  \n",
        "    p = [ i for i in range(1, n+1)]  \n",
        "    for __ in range(k): \n",
        "        for j in range(1,n): \n",
        "            p[j] += p[j-1] \n",
        "    print(p[-1])"
      ]
    },
    {
      "cell_type": "code",
      "execution_count": null,
      "metadata": {
        "colab": {
          "base_uri": "https://localhost:8080/"
        },
        "id": "wb4sWf-Yr7jk",
        "outputId": "1c6beb5e-d1d9-4400-ce6c-60c216b26439"
      },
      "outputs": [
        {
          "name": "stdout",
          "output_type": "stream",
          "text": [
            "10\n",
            "55\n"
          ]
        }
      ],
      "source": [
        "#백준 10870 피보나치 수 5\n",
        "#문제 URL : https://www.acmicpc.net/problem/10870\n",
        "\n",
        "input_ = int(input())    \n",
        "\n",
        "def Fi(num_):\n",
        "  if num_ == 0:\n",
        "    return 0\n",
        "  elif num_ == 1 or num_ == 2:\n",
        "    return 1\n",
        "  else:\n",
        "    return Fi(num_ - 1) + Fi(num_ - 2)\n",
        "print(Fi(input_))"
      ]
    },
    {
      "cell_type": "code",
      "execution_count": null,
      "metadata": {
        "colab": {
          "base_uri": "https://localhost:8080/"
        },
        "id": "XeTMcczF2Nz1",
        "outputId": "96b7d827-bd1f-4aff-c891-e56d549fa668"
      },
      "outputs": [
        {
          "name": "stdout",
          "output_type": "stream",
          "text": [
            "10 4200\n",
            "1\n",
            "5\n",
            "10\n",
            "50\n",
            "100\n",
            "500\n",
            "1000\n",
            "5000\n",
            "10000\n",
            "50000\n",
            "4\n",
            "200\n",
            "6\n",
            "0\n",
            "6\n"
          ]
        }
      ],
      "source": [
        "#백준 11047번 동전0\n",
        "#문제 URL : https://www.acmicpc.net/problem/11047\n",
        "\n",
        "a, P  = map(int,input().split()) \n",
        "list_ = []\n",
        "\n",
        "for i in range(a):\n",
        "  list_.append(int(input()))\n",
        "list_.sort(reverse=True)\n",
        "coin_ = 0\n",
        "for i in list_:\n",
        "  if P >= i:\n",
        "    A, B = divmod(P,i)\n",
        "    coin_ += A\n",
        "    P = B  \n",
        "print(coin_)"
      ]
    },
    {
      "cell_type": "code",
      "execution_count": null,
      "metadata": {
        "colab": {
          "base_uri": "https://localhost:8080/"
        },
        "id": "PvqkS6ly1ZeQ",
        "outputId": "8c3e1580-8f5e-4216-a455-293f3b7fdb9e"
      },
      "outputs": [
        {
          "name": "stdout",
          "output_type": "stream",
          "text": [
            "5\n",
            "5\n",
            "2\n",
            "1\n",
            "4\n",
            "3\n",
            "1\n",
            "2\n",
            "3\n",
            "4\n",
            "5\n"
          ]
        }
      ],
      "source": [
        "#백준 2750번 수 정렬하기\n",
        "#문제 URL : https://www.acmicpc.net/problem/2750\n",
        "\n",
        "num_ = int(input())\n",
        "list_ = []\n",
        "for i in range(num_):\n",
        "  list_.append(int(input()))\n",
        "list_.sort()\n",
        "for i in list_:\n",
        "  print(i)\n"
      ]
    },
    {
      "cell_type": "code",
      "execution_count": null,
      "metadata": {
        "id": "1SQqw271-sha"
      },
      "outputs": [],
      "source": [
        "#백준 2751번 수 정렬하기 2\n",
        "#문제 URL : https://www.acmicpc.net/problem/2751\n",
        "\n",
        "import sys\n",
        " \n",
        "num_ = int(input())\n",
        "list_ = []\n",
        "for i in range(num_):\n",
        "  list_.append(int(sys.stdin.readline()))\n",
        "for i in sorted(list_):\n",
        "  print(i)"
      ]
    },
    {
      "cell_type": "code",
      "execution_count": null,
      "metadata": {
        "id": "LV6ZSwDKR2Ne"
      },
      "outputs": [],
      "source": [
        "#백준 10989번 수 정렬하기 3\n",
        "#문제 URL : https://www.acmicpc.net/problem/10989\n",
        "\n",
        "# count sort / 메모리 초과 /  양이 적을땐 최적\n",
        "import sys\n",
        "\n",
        "num_ = int(input())\n",
        "sor_list = []  \n",
        "\n",
        "for i in range(num_):\n",
        "   sor_list.append(int(sys.stdin.readline()))\n",
        "\n",
        "list_ = [0] * 10001\n",
        "list_[0] = sor_list.count(0)\n",
        "for i in range(len(list_)):\n",
        "  list_[i] = list_[i-1] + sor_list.count(i)  \n",
        "list_ = list(map(lambda x: x - 1, list_))   \n",
        "list_Out = [0] * 10001\n",
        "\n",
        "for i in reversed(range(len(sor_list))): \n",
        "    La_ = sor_list[i]\n",
        "    index_ = list_[La_]\n",
        "    list_Out[index_] = La_\n",
        "    list_[La_] = list_[La_] -1 \n",
        "\n",
        "for j in list_Out:\n",
        "    print(j)\n",
        "\n",
        "\n",
        "# 다른 방법\n",
        "import sys\n",
        "\n",
        "n = int(input())\n",
        "list_ = [0] * 10001 \n",
        "for i in range(n):\n",
        "    list_[int(sys.stdin.readline())] += 1\n",
        "\n",
        "for i in range(10001):\n",
        "    if list_[i] != 0:\n",
        "        for j in range(list_[i]):\n",
        "            print(i)\n",
        "\n"
      ]
    },
    {
      "cell_type": "code",
      "execution_count": null,
      "metadata": {
        "id": "6sVtitAe_1Ab"
      },
      "outputs": [],
      "source": [
        "#백준 2108번 통계학\n",
        "#문제 URL : https://www.acmicpc.net/problem/2108\n",
        "import sys\n",
        "from collections import Counter\n",
        "  \n",
        "num_ = int(input())\n",
        "list_ = []\n",
        "for i in range(num_):\n",
        "   list_.append(int(sys.stdin.readline())) \n",
        "list_.sort()  \n",
        "re_1 = round(sum(list_) / len(list_))\n",
        "re_2 = list_[int(len(list_) // 2)] \n",
        "re_3 = Counter(list_).most_common(2)\n",
        "re_4 = max(list_) - min(list_)\n",
        "\n",
        "#결과 출력\n",
        "print(re_1)\n",
        "print(re_2)\n",
        "if 1 < len(re_3):\n",
        "  if re_3[0][1] == re_3[1][1]: \n",
        "    print(re_3[1][0]) \n",
        "  else: \n",
        "    print(re_3[0][0]) \n",
        "else:\n",
        "  print(re_3[0][0]) \n",
        "print(re_4)\n",
        "\n"
      ]
    },
    {
      "cell_type": "code",
      "execution_count": null,
      "metadata": {
        "colab": {
          "base_uri": "https://localhost:8080/"
        },
        "id": "s-2UnRuU_7Dl",
        "outputId": "74404b88-2b44-44bc-e9ec-5a1b76f2f2a2"
      },
      "outputs": [
        {
          "name": "stdout",
          "output_type": "stream",
          "text": [
            "15\n",
            "51\n"
          ]
        }
      ],
      "source": [
        "#백준 1427번 소트인사이드\n",
        "#문제 URL : https://www.acmicpc.net/problem/1427\n",
        "\n",
        "num_ = int(input()) \n",
        "list_ = list(map(lambda x: int(x) , str(num_)))\n",
        "list_.sort(reverse=True)\n",
        "print(''.join(map(str, list_)))\n"
      ]
    },
    {
      "cell_type": "code",
      "execution_count": null,
      "metadata": {
        "id": "lc26XBb2I2oH"
      },
      "outputs": [],
      "source": [
        "#백준 11650번 좌표 정렬하기\n",
        "#문제 URL : https://www.acmicpc.net/problem/11650\n",
        "import sys \n",
        "num_ = int(input())  \n",
        "list_ = [] \n",
        "for i in range(num_):\n",
        "   list_.append([int(s) for s in sys.stdin.readline().split()])\n",
        "list_.sort() \n",
        "for i in range(0, num_):\n",
        "  print(list_[i][0], list_[i][1])"
      ]
    },
    {
      "cell_type": "code",
      "execution_count": null,
      "metadata": {
        "colab": {
          "base_uri": "https://localhost:8080/"
        },
        "id": "8B_48nhLK0BE",
        "outputId": "6d3c6cc8-a107-4224-8fd9-08ecbc46ec63"
      },
      "outputs": [
        {
          "name": "stdout",
          "output_type": "stream",
          "text": [
            "2\n",
            "aa\n",
            "b\n",
            "b.\n",
            "aa\n"
          ]
        }
      ],
      "source": [
        "#백준 11651번 좌표 정렬하기 2\n",
        "#문제 URL : https://www.acmicpc.net/problem/11651\n",
        "\n",
        "import sys\n",
        "\n",
        "num_ = int(sys.stdin.readline()) \n",
        "list_ = [sys.stdin.readline().strip() for i in range(num_)] \n",
        "list_ = list(set(list_))\n",
        "list_.sort() \n",
        "list_.sort(key=len)  \n",
        "result = \"\\n\".join(list_)\n",
        "print(result)\n",
        " "
      ]
    },
    {
      "cell_type": "code",
      "execution_count": null,
      "metadata": {
        "id": "ezqaA0_qMXyz"
      },
      "outputs": [],
      "source": [
        "#백준 10814번 나이순 정렬\n",
        "#문제 URL : https://www.acmicpc.net/problem/10814\n",
        "\n",
        "import sys\n",
        "num_ = int(sys.stdin.readline()) \n",
        "list_ = []  \n",
        "for i in range(num_):\n",
        "   a, b = list(map(str, input().split())) \n",
        "   list_.append([a,b])  \n",
        "list_.sort(key=lambda x : int(x[0]))\n",
        "for i in range(num_):\n",
        "  print(list_[i][0], list_[i][1]) "
      ]
    },
    {
      "cell_type": "code",
      "execution_count": null,
      "metadata": {
        "colab": {
          "background_save": true,
          "base_uri": "https://localhost:8080/",
          "height": 131
        },
        "id": "RNHirhhFhOzJ",
        "outputId": "329bae73-1c4f-4654-99d8-775464cc15ac"
      },
      "outputs": [
        {
          "ename": "SyntaxError",
          "evalue": "ignored",
          "output_type": "error",
          "traceback": [
            "\u001b[0;36m  File \u001b[0;32m\"<ipython-input-90-0829629ff6df>\"\u001b[0;36m, line \u001b[0;32m8\u001b[0m\n\u001b[0;31m    for i in list_:\u001b[0m\n\u001b[0m                  ^\u001b[0m\n\u001b[0;31mSyntaxError\u001b[0m\u001b[0;31m:\u001b[0m invalid syntax\n"
          ]
        }
      ],
      "source": [
        "#백준 18870번 좌표 압축\n",
        "#문제 URL : https://www.acmicpc.net/problem/18870\n",
        "\n",
        "num_ = int(input())\n",
        "list_ = list(map(int, input().split()))\n",
        "list_2 = sorted(list(set(list_)))   \n",
        "dict_ = {list_2[i] : i for i in range(len(list_2))}\n",
        "for i in list_:\n",
        "    print(dict_[i], end = ' ')"
      ]
    },
    {
      "cell_type": "code",
      "source": [
        "#백준 1931번 회의실 배정\n",
        "#문제 URL : https://www.acmicpc.net/problem/1931\n",
        "import sys\n",
        "\n",
        "num_ = int(input())\n",
        "#num_ = int(sys.stdin.readline()) \n",
        "list_ = [] \n",
        "result_ = 0\n",
        "for i in range(num_):\n",
        "  A,B = list(map(int, input().split())) \n",
        "  list_.append([A,B])\n",
        "  #list_.append([int(s) for s in sys.stdin.readline().split()])  \n",
        "list_.sort(key = lambda x: (x[1], x[0]))  \n",
        "la_ = 0\n",
        "re_ = 0\n",
        "for i, j in list_:\n",
        "    if i >= la_:\n",
        "        re_ += 1\n",
        "        la_ = j\n",
        "print(re_)"
      ],
      "metadata": {
        "id": "WUm_-y3_DR4m"
      },
      "execution_count": null,
      "outputs": []
    },
    {
      "cell_type": "code",
      "source": [
        "#백준 11399번 ATM\n",
        "#문제 URL : https://www.acmicpc.net/problem/11399\n",
        "\n",
        "num_ = int(input())\n",
        "list_ = map(int,input().split())\n",
        "dict_ = {}\n",
        "for i, d in enumerate(list_):\n",
        "  dict_[i] = d \n",
        "dict_ = sorted(dict_.items(), key=(lambda x: x[1]))  \n",
        "sum_ = 0\n",
        "list2_ = []\n",
        "for i in dict_:\n",
        "  sum_ += i[1]\n",
        "  list2_.append(sum_)\n",
        "print(sum(list2_))"
      ],
      "metadata": {
        "id": "AevtM48gDTgq"
      },
      "execution_count": null,
      "outputs": []
    },
    {
      "cell_type": "code",
      "source": [
        "#백준 1541번 잃어버린 괄호\n",
        "#문제 URL : https://www.acmicpc.net/problem/1541\n",
        "from functools import reduce\n",
        "\n",
        "list_ = input().split(\"-\")\n",
        "re_ = int(reduce(lambda x, y: int(x) + int(y), list_[0].split(\"+\"))) \n",
        "for i in list_[1:]:\n",
        "    re_ -= int(reduce(lambda x, y: int(x) + int(y), i.split(\"+\")))  \n",
        "print(re_)"
      ],
      "metadata": {
        "colab": {
          "base_uri": "https://localhost:8080/"
        },
        "id": "LNZuw6PfDT75",
        "outputId": "91d5f70b-e3db-4b63-ee54-bdc170fe6d87"
      },
      "execution_count": null,
      "outputs": [
        {
          "output_type": "stream",
          "name": "stdout",
          "text": [
            "55-50+40\n",
            "-35\n"
          ]
        }
      ]
    },
    {
      "cell_type": "code",
      "source": [
        "#백준 13305번 주유소\n",
        "#문제 URL : https://www.acmicpc.net/problem/13305\n",
        "\n",
        "num_ = int(input())\n",
        "load_ =list(map(int,input().split())) \n",
        "city_ =list(map(int,input().split())) \n",
        "\n",
        "re_ = []\n",
        "if city_[0] == min(city_):\n",
        "  print(city_[0] * sum(load_))\n",
        "else:\n",
        "  co_ = city_[0]\n",
        "  for i in range(1,num_):\n",
        "    if co_ < city_[i]:\n",
        "      re_.append(co_ * load_[i-1])\n",
        "    else:\n",
        "      re_.append(co_ * load_[i-1])\n",
        "      co_ = city_[i]\n",
        "  print(sum(re_))\n"
      ],
      "metadata": {
        "colab": {
          "base_uri": "https://localhost:8080/"
        },
        "id": "u7RAY1sWMzKx",
        "outputId": "283f5e6e-0b8c-4ba1-a001-a93e75d77394"
      },
      "execution_count": null,
      "outputs": [
        {
          "output_type": "stream",
          "name": "stdout",
          "text": [
            "4\n",
            "3 3 4\n",
            "1 1 1 1\n",
            "10\n",
            "0\n"
          ]
        }
      ]
    },
    {
      "cell_type": "code",
      "source": [
        "#백준 9012번 괄호\n",
        "#문제 URL : https://www.acmicpc.net/problem/9012\n",
        "\n",
        "num_ = int(input()) \n",
        "for i in range(num_):\n",
        "  str_ = input()\n",
        "  for _ in range(len(str_)):\n",
        "    str_= str_.replace(\"()\",\"\")\n",
        "  if str_ == '':\n",
        "    print('YES')\n",
        "  else:\n",
        "    print('NO')\n",
        "  "
      ],
      "metadata": {
        "id": "yhxK7suRYz8l"
      },
      "execution_count": null,
      "outputs": []
    },
    {
      "cell_type": "code",
      "source": [
        "#백준 4949번 균형잡힌 세상\n",
        "#문제 URL : https://www.acmicpc.net/problem/4949\n",
        " \n",
        "while True: \n",
        "  str_ = input() \n",
        "  if str_ == '.':\n",
        "    break  \n",
        "  bool_= True\n",
        "  list_ = []\n",
        "  for i in str_:\n",
        "    if i =='(' or i =='[':\n",
        "      list_.append(i)\n",
        "    elif i == ')':\n",
        "      if not list_ or list_[-1] == '[':\n",
        "        bool_ = False\n",
        "        break\n",
        "      elif list_[-1] == '(':\n",
        "        list_.pop()\n",
        "    elif i == ']':\n",
        "      if not list_ or list_[-1] == '(':\n",
        "        bool_ = False\n",
        "        break\n",
        "      elif list_[-1] == '[':\n",
        "        list_.pop()\n",
        "  if bool_ and not list_:\n",
        "    print('yes')\n",
        "  else:\n",
        "    print('no')\n",
        "    "
      ],
      "metadata": {
        "id": "kb6WMRkasJVA"
      },
      "execution_count": null,
      "outputs": []
    },
    {
      "cell_type": "code",
      "source": [
        "#백준 17298번 오큰수\n",
        "#문제 URL : https://www.acmicpc.net/problem/17298\n",
        "\n",
        "#시간초과\n",
        "import sys\n",
        " \n",
        "num_ = int(input())\n",
        "list_ = list(map(int,input().split())) \n",
        "#list(map(int, sys.stdin.readline().split()))\n",
        "re_ = []\n",
        "for i in range(num_):\n",
        "  number_ = list_[i]\n",
        "  bool_ = False\n",
        "  for j in range(i+1,num_):\n",
        "    number_2 = list_[j] \n",
        "    if(number_ < number_2):\n",
        "      re_.append(number_2)\n",
        "      bool_ = True\n",
        "      break\n",
        "  if bool_ == False:\n",
        "    re_.append(-1)    \n",
        "print(*re_)\n",
        "\n",
        "#다른 풀이 \n",
        "num_ = int(input()) \n",
        "number_ = list(map(int, input().split()))\n",
        "stack = [];\n",
        "re_ =[-1] * num_  \n",
        "for i in range(num_): \n",
        "  while stack and number_[stack[-1]] < number_[i]:\n",
        "     re_[stack.pop()] = number_[i] \n",
        "  stack.append(i) \n",
        "print(*re_)\n",
        " "
      ],
      "metadata": {
        "colab": {
          "base_uri": "https://localhost:8080/"
        },
        "id": "4xkpc_MaWjBX",
        "outputId": "04b33ec3-2112-4a78-ab47-6ae05c1ff3b7"
      },
      "execution_count": 11,
      "outputs": [
        {
          "output_type": "stream",
          "name": "stdout",
          "text": [
            "4\n",
            "3 5 2 7\n",
            "5 7 7 -1\n"
          ]
        }
      ]
    },
    {
      "cell_type": "code",
      "source": [
        "#백준 2164번 카드2\n",
        "#문제 URL : https://www.acmicpc.net/problem/2164\n",
        "\n",
        "from collections import deque\n",
        "import sys\n",
        "\n",
        "num_ = int(input())\n",
        "deq = deque(list(map(lambda x: x, range(1, num_+1))))  \n",
        "while len(deq) != 1:\n",
        "  #맨위 버리기\n",
        "  deq.popleft() \n",
        "  #다음 카드 \n",
        "  deq.append(deq[0])\n",
        "  deq.popleft()\n",
        "print(deq[0])"
      ],
      "metadata": {
        "colab": {
          "base_uri": "https://localhost:8080/"
        },
        "id": "PRcesrL-ffbc",
        "outputId": "3c9ea1f9-9ac4-4e74-d671-ce81b6340d26"
      },
      "execution_count": 20,
      "outputs": [
        {
          "output_type": "stream",
          "name": "stdout",
          "text": [
            "4\n",
            "4\n"
          ]
        }
      ]
    },
    {
      "cell_type": "code",
      "source": [
        "\n"
      ],
      "metadata": {
        "id": "KclWZCcqs8DH"
      },
      "execution_count": null,
      "outputs": []
    },
    {
      "cell_type": "code",
      "source": [
        ""
      ],
      "metadata": {
        "id": "4PampcmywGzA"
      },
      "execution_count": null,
      "outputs": []
    }
  ],
  "metadata": {
    "colab": {
      "name": "BaekJoonCode.ipynb",
      "provenance": [],
      "collapsed_sections": [],
      "authorship_tag": "ABX9TyME7urNgcuIHP4/RoJ/DT+O",
      "include_colab_link": true
    },
    "kernelspec": {
      "display_name": "Python 3",
      "name": "python3"
    },
    "language_info": {
      "name": "python"
    }
  },
  "nbformat": 4,
  "nbformat_minor": 0
}